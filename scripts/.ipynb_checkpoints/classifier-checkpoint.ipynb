{
 "cells": [
  {
   "cell_type": "markdown",
   "metadata": {
    "deletable": true,
    "editable": true
   },
   "source": [
    "\t\n",
    "# classifier.py \n",
    "This Python notebook uses a few different methods to built classifiers for the data provided by Dr. Chawla's challenge assignment.  Based on how the classifiers perform according to various validation frameworks, it chooses the best classifier to predict classes for the data included as testing data.  It writes this in a one column format to a file called \"classification_test.prediction\"\n",
    "### Margaret Thomann & Michael McRoskey\t\n",
    "#### May 7 2018"
   ]
  },
  {
   "cell_type": "code",
   "execution_count": 61,
   "metadata": {
    "collapsed": false,
    "deletable": true,
    "editable": true
   },
   "outputs": [],
   "source": [
    "import pandas as pd\n",
    "from sklearn.neural_network import MLPClassifier\n",
    "from sklearn.svm import SVC\n",
    "from sklearn.naive_bayes import GaussianNB\n",
    "from sklearn.ensemble import AdaBoostClassifier\n",
    "from sklearn.model_selection import cross_val_score, train_test_split\n",
    "from sklearn.metrics import confusion_matrix\n",
    "from sklearn.ensemble import ExtraTreesClassifier\n",
    "from sklearn.tree import DecisionTreeClassifier\n",
    "from sklearn.feature_selection import SelectFromModel\n",
    "from sklearn.feature_selection import VarianceThreshold\n",
    "from IPython.display import HTML, display\n",
    "from sklearn.feature_selection import SelectKBest\n",
    "from sklearn.feature_selection import chi2\n",
    "from sklearn.feature_selection import RFE\n",
    "from sklearn.svm import SVR\n",
    "import tabulate"
   ]
  },
  {
   "cell_type": "markdown",
   "metadata": {
    "deletable": true,
    "editable": true
   },
   "source": [
    "### Defining the training, testing and prediction files"
   ]
  },
  {
   "cell_type": "code",
   "execution_count": 62,
   "metadata": {
    "collapsed": true,
    "deletable": true,
    "editable": true
   },
   "outputs": [],
   "source": [
    "TRAIN_FILE = \"../data/classification_train.data\"\n",
    "TEST_FILE = \"../data/classification_test.test\"\n",
    "PREDICTION_FILE = \"../data/classification_test.predictions\""
   ]
  },
  {
   "cell_type": "markdown",
   "metadata": {
    "deletable": true,
    "editable": true
   },
   "source": [
    "### Reading training and testing data into data frames"
   ]
  },
  {
   "cell_type": "code",
   "execution_count": 63,
   "metadata": {
    "collapsed": false,
    "deletable": true,
    "editable": true
   },
   "outputs": [],
   "source": [
    "# Reading training data into pandas data frame\n",
    "features_train = [\"f01\", \"f02\", \"f03\", \"f04\", \"f05\", \"f06\", \n",
    "\t\t\t\"f07\", \"f08\", \"f09\", \"f10\", \"f11\", \"f12\", \n",
    "\t\t\t\"f13\", \"f14\", \"f15\", \"f16\", \"f17\", \"f18\", \n",
    "\t\t\t\"f19\", \"f20\", \"f21\", \"f22\", \"f23\", \"f24\", \n",
    "\t\t\t\"f25\", \"f26\", \"f27\", \"f28\", \"f29\", \"f30\", \n",
    "\t\t\t\"f31\", \"f32\", \"f33\", \"f34\", \"f35\", \"f36\", \n",
    "\t\t\t\"f37\", \"f38\", \"f39\", \"f40\", \"f41\", \"f42\", \n",
    "\t\t\t\"f43\", \"f44\", \"f45\", \"f46\", \"f47\", \"f48\", \n",
    "\t\t\t\"Class\"]\n",
    "df_train = pd.read_csv(TRAIN_FILE, names=features_train)\n",
    "\n",
    "# Read testing data into pandas data frame\n",
    "features_test = [\"f01\", \"f02\", \"f03\", \"f04\", \"f05\", \"f06\", \n",
    "\t\t\t\"f07\", \"f08\", \"f09\", \"f10\", \"f11\", \"f12\", \n",
    "\t\t\t\"f13\", \"f14\", \"f15\", \"f16\", \"f17\", \"f18\", \n",
    "\t\t\t\"f19\", \"f20\", \"f21\", \"f22\", \"f23\", \"f24\", \n",
    "\t\t\t\"f25\", \"f26\", \"f27\", \"f28\", \"f29\", \"f30\", \n",
    "\t\t\t\"f31\", \"f32\", \"f33\", \"f34\", \"f35\", \"f36\", \n",
    "\t\t\t\"f37\", \"f38\", \"f39\", \"f40\", \"f41\", \"f42\", \n",
    "\t\t\t\"f43\", \"f44\", \"f45\", \"f46\", \"f47\", \"f48\"]\n",
    "df_test = pd.read_csv(TEST_FILE, names=features_test)\n",
    "\n",
    "# Define x and y from data\n",
    "#     x_* arrays will be transformed later in \"Feature Selection\"\n",
    "x = df_train.drop(['Class'], axis=1)\n",
    "x_a = df_train.drop(['Class'], axis=1)\n",
    "x_b = df_train.drop(['Class'], axis=1)\n",
    "x_c = df_train.drop(['Class'], axis=1)\n",
    "y = df_train['Class']"
   ]
  },
  {
   "cell_type": "markdown",
   "metadata": {
    "deletable": true,
    "editable": true
   },
   "source": [
    "### Feature Selection\n",
    "* **a** : x_a is the non-transformed data; no feature selection has been performed \n",
    "* **b** : x_b is the transformed data using the ExtraTreesClassifier \n",
    "* **c** : x_c is the transformed data using the VarianceThreshold "
   ]
  },
  {
   "cell_type": "code",
   "execution_count": 64,
   "metadata": {
    "collapsed": false,
    "deletable": true,
    "editable": true
   },
   "outputs": [
    {
     "name": "stdout",
     "output_type": "stream",
     "text": [
      "x_a shape: (4147, 48)\n",
      "x_b shape: (4147, 10)\n",
      "x_c shape: (4147, 41)\n"
     ]
    }
   ],
   "source": [
    "# Tree Based Feature Selection\n",
    "clf = ExtraTreesClassifier()\n",
    "clf = clf.fit(x, y)\n",
    "model = SelectFromModel(clf, prefit=True)\n",
    "x_b = model.transform(x)\n",
    "\n",
    "# Low Variance Removal\n",
    "sel = VarianceThreshold(threshold=(.99 * (1 - .99)))\n",
    "x_c = sel.fit_transform(x_c)\n",
    "\n",
    "print \"x_a shape:\", x_a.shape\n",
    "print \"x_b shape:\", x_b.shape\n",
    "print \"x_c shape:\", x_c.shape"
   ]
  },
  {
   "cell_type": "markdown",
   "metadata": {
    "deletable": true,
    "editable": true
   },
   "source": [
    "### Building & validating classifier"
   ]
  },
  {
   "cell_type": "code",
   "execution_count": 65,
   "metadata": {
    "collapsed": false,
    "deletable": true,
    "editable": true
   },
   "outputs": [
    {
     "name": "stdout",
     "output_type": "stream",
     "text": [
      "---Building Classifiers---\n",
      "\t * MLP Classifier built for iteration:  0\n",
      "\t * AdaBoost Classifier built for iteration:  0\n",
      "\t * Decision Trees Classifier built for iteration:  0\n",
      "\t * MLP Classifier built for iteration:  1\n",
      "\t * AdaBoost Classifier built for iteration:  1\n",
      "\t * Decision Trees Classifier built for iteration:  1\n",
      "\t * MLP Classifier built for iteration:  2\n",
      "\t * AdaBoost Classifier built for iteration:  2\n",
      "\t * Decision Trees Classifier built for iteration:  2\n"
     ]
    }
   ],
   "source": [
    "print \"---Building Classifiers---\" \n",
    "# Define the number of classifiers for performance metrics later\n",
    "NUM_CLASSIFIERS = 3\n",
    "\n",
    "# Loop through to build classifiers for each transformed x array\n",
    "x_array = [x_a, x_b, x_c]\n",
    "results = []\n",
    "for i in range(len(x_array)):\n",
    "    \n",
    "    '''MLP Clsssifier'''\n",
    "    clf_mlp = MLPClassifier()\n",
    "    clf_mlp.fit(x_array[i], y)\n",
    "    cv_results_mlp = cross_val_score(clf_mlp, x_array[i], y, cv=10, scoring=\"accuracy\")\n",
    "    results.append(cv_results_mlp)\n",
    "    print \"\\t * MLP Classifier built for iteration: \", i\n",
    "\n",
    "    '''Gaussian Naive Bayes Classifier'''\n",
    "    clf_gnb = GaussianNB()\n",
    "    clf_gnb.fit(x_array[i], y)\n",
    "    cv_results_gnb = cross_val_score(clf_gnb, x_array[i], y, cv=10, scoring=\"accuracy\")\n",
    "    results.append(cv_results_gnb)\n",
    "    print \"\\t * Gaussian Naive Bayes Classifier built for iteration: \", i \n",
    "    \n",
    "    '''Decision Trees Classifier'''\n",
    "    clf_dt = DecisionTreeClassifier()\n",
    "    clf_dt.fit(x_array[i], y)\n",
    "    cv_results_dt = cross_val_score(clf_dt, x_array[i], y, cv=10, scoring=\"accuracy\")\n",
    "    results.append(cv_results_dt)\n",
    "    print \"\\t * Decision Trees Classifier built for iteration: \", i \n",
    "    print \"\\n\"\n",
    "    \n"
   ]
  },
  {
   "cell_type": "markdown",
   "metadata": {
    "deletable": true,
    "editable": true
   },
   "source": [
    "### Classifier performance metrics"
   ]
  },
  {
   "cell_type": "code",
   "execution_count": 70,
   "metadata": {
    "collapsed": false,
    "deletable": true,
    "editable": true
   },
   "outputs": [
    {
     "name": "stdout",
     "output_type": "stream",
     "text": [
      "---Performance Metrics---\n"
     ]
    },
    {
     "data": {
      "text/html": [
       "<table>\n",
       "<tbody>\n",
       "<tr><td>                                       </td><td>MLP Classifier Accuracy</td><td>Gaussian Naive Bayes Classifier Accuracy</td><td>Decision Trees Classifier Accuracy</td></tr>\n",
       "<tr><td>a. No Feature Selection                </td><td>0.80 (+/- 0.05)        </td><td>0.77 (+/- 0.03)                         </td><td>0.80 (+/- 0.04)                   </td></tr>\n",
       "<tr><td>b. Extra Trees Feature Selection       </td><td>0.78 (+/- 0.02)        </td><td>0.84 (+/- 0.03)                         </td><td>0.80 (+/- 0.02)                   </td></tr>\n",
       "<tr><td>c. Variance Threshold Feature Selection</td><td>0.81 (+/- 0.03)        </td><td>0.78 (+/- 0.03)                         </td><td>0.80 (+/- 0.04)                   </td></tr>\n",
       "</tbody>\n",
       "</table>"
      ],
      "text/plain": [
       "<IPython.core.display.HTML object>"
      ]
     },
     "metadata": {},
     "output_type": "display_data"
    }
   ],
   "source": [
    "print(\"---Performance Metrics---\")\n",
    "table = []\n",
    "table.append([\"\", \"MLP Classifier Accuracy\", \"Gaussian Naive Bayes Classifier Accuracy\", \"Decision Trees Classifier Accuracy\"])\n",
    "column_names = [\"a. No Feature Selection\", \"b. Extra Trees Feature Selection\", \"c. Variance Threshold Feature Selection\"]\n",
    "table_row = []\n",
    "col_counter = 0\n",
    "for i in range(len(x_array)*NUM_CLASSIFIERS):\n",
    "    mean = results[i].mean()\n",
    "    std = results[i].std()\n",
    "    str_results = \"%0.2f (+/- %0.2f)\" % (mean, std * 2)\n",
    "    table_row.append(str_results)\n",
    "    if ((i+1) % 3 == 0):\n",
    "        table_row.insert(0, column_names[col_counter])\n",
    "        table.append(table_row)\n",
    "        table_row = []\n",
    "        col_counter += 1\n",
    "\n",
    "display(HTML(tabulate.tabulate(table, tablefmt='html')))\n"
   ]
  },
  {
   "cell_type": "markdown",
   "metadata": {
    "deletable": true,
    "editable": true
   },
   "source": [
    "### Predicting using classifier on test data"
   ]
  },
  {
   "cell_type": "code",
   "execution_count": 69,
   "metadata": {
    "collapsed": false,
    "deletable": true,
    "editable": true
   },
   "outputs": [],
   "source": [
    "x = df_train.drop(['Class'], axis=1)\n",
    "y_train = df_train['Class']\n",
    "\n",
    "# Feature selection\n",
    "clf = ExtraTreesClassifier()\n",
    "clf = clf.fit(x, y)\n",
    "model = SelectFromModel(clf, prefit=True)\n",
    "x_train = model.transform(x)\n",
    "\n",
    "# Fit Model\n",
    "final_classifier = GaussianNB()\n",
    "final_classifier.fit(x_train, y_train)\n",
    "\n",
    "# Feature selection on test\n",
    "x_test = model.transform(df_test)\n",
    "\n",
    "# Predict model\n",
    "predictions = final_classifier.predict(x_test)\n",
    "with open(PREDICTION_FILE, \"w+\") as f:\n",
    "    for number in predictions:\n",
    "        f.write(str(number)+\"\\n\")"
   ]
  },
  {
   "cell_type": "code",
   "execution_count": null,
   "metadata": {
    "collapsed": true,
    "deletable": true,
    "editable": true
   },
   "outputs": [],
   "source": []
  }
 ],
 "metadata": {
  "kernelspec": {
   "display_name": "Python 2",
   "language": "python",
   "name": "python2"
  },
  "language_info": {
   "codemirror_mode": {
    "name": "ipython",
    "version": 2
   },
   "file_extension": ".py",
   "mimetype": "text/x-python",
   "name": "python",
   "nbconvert_exporter": "python",
   "pygments_lexer": "ipython2",
   "version": "2.7.14"
  }
 },
 "nbformat": 4,
 "nbformat_minor": 2
}
